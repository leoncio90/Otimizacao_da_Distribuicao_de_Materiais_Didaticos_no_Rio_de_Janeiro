{
 "cells": [
  {
   "cell_type": "markdown",
   "metadata": {
    "id": "zMmHU-9ITNR-"
   },
   "source": [
    "#  Ada Tech</span>\n",
    "Técnicas de Programação I - Python</span>\n",
    "\n",
    "## <font color=\"\">Pandas Parte I</font>\n",
    "\n",
    "## <font color=\"\">Pandas Parte I - Exercícios</font>\n",
    "**Maurício Luiz Sobrinho**<br>\n",
    "**Matheus Parreiras Andrade**<br>\n",
    "\n",
    "\n",
    "---"
   ]
  },
  {
   "cell_type": "markdown",
   "metadata": {
    "id": "owft8wpkTNSA"
   },
   "source": [
    "#### <font color=\"red\">Recomenda-se fortemente que os exercícios sejam feitos sem consultar as respostas antecipadamente.</font>"
   ]
  },
  {
   "cell_type": "markdown",
   "metadata": {
    "id": "ooQScKsYTNSA"
   },
   "source": [
    "Os exercícios a seguir farão uso do arquivo <font style=\"font-family: monaco\">WorldCups.csv</font> disponível para download no moodle.\n",
    "\n",
    "O arquivo <font style=\"font-family: monaco\">WorldCups.csv</font> possui as seguintes colunas:\n",
    "- **Year**: ano da copa\n",
    "- **Country**: país sede\n",
    "- **Winner**: campeão\n",
    "- **RunnersUp**: disputou a final com o campeão\n",
    "- **Third**: terceiro colocado\n",
    "- **Fourth**: quarto colocado\n",
    "- **GoalsScored**: número de gols na copa\n",
    "- **QualifiedTeams**: número de times que disputaram a copa\n",
    "- **MatchesPlayed**: número de jogos\n",
    "- **Attendance**: número de espectadores (público)"
   ]
  },
  {
   "cell_type": "code",
   "execution_count": 8,
   "metadata": {
    "id": "QG0EzGL1TNSB"
   },
   "outputs": [],
   "source": [
    "import numpy as np\n",
    "import pandas as pd"
   ]
  },
  {
   "cell_type": "markdown",
   "metadata": {
    "id": "76IJAeY6TNSB"
   },
   "source": [
    "### Exercício 1) \n",
    "Utilizando o <font color='blue'>pandas</font>, leia o arquivo <font style=\"font-family: monaco\">WorldCups.csv</font>, definindo a coluna 'Year' como índice das linhas, e armazene-o em uma variável tipo DataFrame. \n",
    "- Exiba as 5 primeiras linhas do DataFrame\n",
    "- Exiba o tipo de dado de cada coluna\n",
    "- Imprima o número de linhas do DataFrame"
   ]
  },
  {
   "cell_type": "code",
   "execution_count": 10,
   "metadata": {
    "id": "XXVgkoOTTNSB"
   },
   "outputs": [
    {
     "name": "stdout",
     "output_type": "stream",
     "text": [
      "          Country      Winner       RunnersUp    Third      Fourth  \\\n",
      "Year                                                                 \n",
      "1930      Uruguay     Uruguay       Argentina      USA  Yugoslavia   \n",
      "1934        Italy       Italy  Czechoslovakia  Germany     Austria   \n",
      "1938       France       Italy         Hungary   Brazil      Sweden   \n",
      "1950       Brazil     Uruguay          Brazil   Sweden       Spain   \n",
      "1954  Switzerland  Germany FR         Hungary  Austria     Uruguay   \n",
      "\n",
      "      GoalsScored  QualifiedTeams  MatchesPlayed  Attendance  \n",
      "Year                                                          \n",
      "1930           70              13             18      590549  \n",
      "1934           70              16             17      363000  \n",
      "1938           84              15             18      375700  \n",
      "1950           88              13             22     1045246  \n",
      "1954          140              16             26      768607  \n"
     ]
    }
   ],
   "source": [
    "# SOLUÇÃO\n",
    "df = pd.read_csv('WorldCups.csv', index_col= 'Year')\n",
    "print(df.head())"
   ]
  },
  {
   "cell_type": "code",
   "execution_count": 12,
   "metadata": {
    "id": "IzgK9twDTNSC"
   },
   "outputs": [
    {
     "data": {
      "text/plain": [
       "Country           object\n",
       "Winner            object\n",
       "RunnersUp         object\n",
       "Third             object\n",
       "Fourth            object\n",
       "GoalsScored        int64\n",
       "QualifiedTeams     int64\n",
       "MatchesPlayed      int64\n",
       "Attendance         int64\n",
       "dtype: object"
      ]
     },
     "execution_count": 12,
     "metadata": {},
     "output_type": "execute_result"
    }
   ],
   "source": [
    "# tipo de dado de cada coluna\n",
    "df.dtypes"
   ]
  },
  {
   "cell_type": "code",
   "execution_count": 16,
   "metadata": {
    "id": "Jei96_30TNSC"
   },
   "outputs": [
    {
     "data": {
      "text/plain": [
       "20"
      ]
     },
     "execution_count": 16,
     "metadata": {},
     "output_type": "execute_result"
    }
   ],
   "source": [
    "# numero de linhas\n",
    "#df.count()\n",
    "len(df)"
   ]
  },
  {
   "cell_type": "markdown",
   "metadata": {
    "id": "WGBwwMA0TNSC"
   },
   "source": [
    "### Exercício 2) \n",
    "Remova as colunas 'QualifiedTeams' e 'MatchesPlayed' do DataFrame."
   ]
  },
  {
   "cell_type": "code",
   "execution_count": 17,
   "metadata": {
    "id": "CpbwPoMYTNSC"
   },
   "outputs": [
    {
     "name": "stdout",
     "output_type": "stream",
     "text": [
      "           Country      Winner       RunnersUp        Third          Fourth  \\\n",
      "Year                                                                          \n",
      "1930       Uruguay     Uruguay       Argentina          USA      Yugoslavia   \n",
      "1934         Italy       Italy  Czechoslovakia      Germany         Austria   \n",
      "1938        France       Italy         Hungary       Brazil          Sweden   \n",
      "1950        Brazil     Uruguay          Brazil       Sweden           Spain   \n",
      "1954   Switzerland  Germany FR         Hungary      Austria         Uruguay   \n",
      "1958        Sweden      Brazil          Sweden       France      Germany FR   \n",
      "1962         Chile      Brazil  Czechoslovakia        Chile      Yugoslavia   \n",
      "1966       England     England      Germany FR     Portugal    Soviet Union   \n",
      "1970        Mexico      Brazil           Italy   Germany FR         Uruguay   \n",
      "1974       Germany  Germany FR     Netherlands       Poland          Brazil   \n",
      "1978     Argentina   Argentina     Netherlands       Brazil           Italy   \n",
      "1982         Spain       Italy      Germany FR       Poland          France   \n",
      "1986        Mexico   Argentina      Germany FR       France         Belgium   \n",
      "1990         Italy  Germany FR       Argentina        Italy         England   \n",
      "1994           USA      Brazil           Italy       Sweden        Bulgaria   \n",
      "1998        France      France          Brazil      Croatia     Netherlands   \n",
      "2002   Korea/Japan      Brazil         Germany       Turkey  Korea Republic   \n",
      "2006       Germany       Italy          France      Germany        Portugal   \n",
      "2010  South Africa       Spain     Netherlands      Germany         Uruguay   \n",
      "2014        Brazil     Germany       Argentina  Netherlands          Brazil   \n",
      "\n",
      "      GoalsScored  Attendance  \n",
      "Year                           \n",
      "1930           70      590549  \n",
      "1934           70      363000  \n",
      "1938           84      375700  \n",
      "1950           88     1045246  \n",
      "1954          140      768607  \n",
      "1958          126      819810  \n",
      "1962           89      893172  \n",
      "1966           89     1563135  \n",
      "1970           95     1603975  \n",
      "1974           97     1865753  \n",
      "1978          102     1545791  \n",
      "1982          146     2109723  \n",
      "1986          132     2394031  \n",
      "1990          115     2516215  \n",
      "1994          141     3587538  \n",
      "1998          171     2785100  \n",
      "2002          161     2705197  \n",
      "2006          147     3359439  \n",
      "2010          145     3178856  \n",
      "2014          171     3386810  \n"
     ]
    }
   ],
   "source": [
    "# SOLUÇÃO\n",
    "df = df.drop(['QualifiedTeams', 'MatchesPlayed'], axis=1)\n",
    "print(df)"
   ]
  },
  {
   "cell_type": "markdown",
   "metadata": {
    "id": "npk90vQoTNSD"
   },
   "source": [
    "### Exercício 3) \n",
    "Exiba os países sede da copa entre os anos 1954 e 1982 (inclusive)"
   ]
  },
  {
   "cell_type": "code",
   "execution_count": 22,
   "metadata": {
    "id": "RdpclgHUTNSD"
   },
   "outputs": [
    {
     "data": {
      "text/plain": [
       "Year\n",
       "1954    Switzerland\n",
       "1958         Sweden\n",
       "1962          Chile\n",
       "1966        England\n",
       "1970         Mexico\n",
       "1974        Germany\n",
       "1978      Argentina\n",
       "1982          Spain\n",
       "Name: Country, dtype: object"
      ]
     },
     "execution_count": 22,
     "metadata": {},
     "output_type": "execute_result"
    }
   ],
   "source": [
    "# SOLUÇÃO\n",
    "df.loc['1954':'1982']['Country']\n"
   ]
  },
  {
   "cell_type": "markdown",
   "metadata": {
    "id": "iKpz5SIYTNSD"
   },
   "source": [
    "### Exercício 4) \n",
    "Encontre e imprima:\n",
    "- os anos em que o Brasil ganhou a copa \n",
    "- os anos em que o Brasil jogou uma final (a final é dada pelas colunas 'Winner' e 'RunnersUp') \n",
    "- a proporção de vitórias do Brasil em finais"
   ]
  },
  {
   "cell_type": "code",
   "execution_count": 24,
   "metadata": {
    "id": "ee-537A5TNSD"
   },
   "outputs": [
    {
     "name": "stdout",
     "output_type": "stream",
     "text": [
      "Anos em que o Brasil ganhou a Copa: [1958, 1962, 1970, 1994, 2002]\n",
      "Anos em que o Brasil jogou uma final: [1950, 1958, 1962, 1970, 1994, 1998, 2002]\n",
      "Proporção de vitórias do Brasil em finais: 1.0\n"
     ]
    }
   ],
   "source": [
    "# SOLUÇÃO\n",
    "\n",
    "anos_brasil_campeao = df[df['Winner'] == 'Brazil'].index.to_list()\n",
    "print(\"Anos em que o Brasil ganhou a Copa:\", anos_brasil_campeao)\n",
    "\n",
    "anos_brasil_final = df[(df['Winner'] == 'Brazil') | (df['RunnersUp'] == 'Brazil')].index.tolist()\n",
    "print(\"Anos em que o Brasil jogou uma final:\", anos_brasil_final)\n",
    "\n",
    "finais_brasil_vitorias = df[(df['Winner'] == 'Brazil') | (df['RunnersUp'] == 'Brazil')]\n",
    "proporcao_vitorias_finais = len(finais_brasil_vitorias) / len(anos_brasil_final) if len(anos_brasil_final) > 0 else 0\n",
    "print(\"Proporção de vitórias do Brasil em finais:\", proporcao_vitorias_finais)"
   ]
  },
  {
   "cell_type": "markdown",
   "metadata": {
    "id": "CTZcHY0qTNSD"
   },
   "source": [
    "### Exercício 5) \n",
    "Quais foram as 5 copas com mais gols? \n",
    "\n",
    "__Dica:__ Ordene o DataFrame"
   ]
  },
  {
   "cell_type": "code",
   "execution_count": 35,
   "metadata": {
    "id": "ojFp2RruTNSE"
   },
   "outputs": [
    {
     "name": "stdout",
     "output_type": "stream",
     "text": [
      "As 5 Copas com mais gols:\n",
      "          Country   Winner   RunnersUp        Third          Fourth  \\\n",
      "Year                                                                  \n",
      "2014       Brazil  Germany   Argentina  Netherlands          Brazil   \n",
      "1998       France   France      Brazil      Croatia     Netherlands   \n",
      "2002  Korea/Japan   Brazil     Germany       Turkey  Korea Republic   \n",
      "2006      Germany    Italy      France      Germany        Portugal   \n",
      "1982        Spain    Italy  Germany FR       Poland          France   \n",
      "\n",
      "      GoalsScored  Attendance  \n",
      "Year                           \n",
      "2014          171     3386810  \n",
      "1998          171     2785100  \n",
      "2002          161     2705197  \n",
      "2006          147     3359439  \n",
      "1982          146     2109723  \n"
     ]
    }
   ],
   "source": [
    "# SOLUÇÃO\n",
    "top_5_gols = df.sort_values(by='GoalsScored', ascending=False).head(5)\n",
    "\n",
    "print(\"As 5 Copas com mais gols:\")\n",
    "print(top_5_gols)\n"
   ]
  },
  {
   "cell_type": "markdown",
   "metadata": {
    "id": "oZfxA40JTNSE"
   },
   "source": [
    "### Exercício 6) \n",
    "Utilize o método <font color='blue'>value_counts</font> para encontrar o número de vezes que cada país ganhou a copa."
   ]
  },
  {
   "cell_type": "code",
   "execution_count": 26,
   "metadata": {
    "id": "DMuXIOflTNSE"
   },
   "outputs": [
    {
     "name": "stdout",
     "output_type": "stream",
     "text": [
      "Número de vezes que cada país ganhou a Copa:\n",
      "Winner\n",
      "Brazil        5\n",
      "Italy         4\n",
      "Germany FR    3\n",
      "Uruguay       2\n",
      "Argentina     2\n",
      "England       1\n",
      "France        1\n",
      "Spain         1\n",
      "Germany       1\n",
      "Name: count, dtype: int64\n"
     ]
    }
   ],
   "source": [
    "# SOLUÇÃO\n",
    "\n",
    "vencedores = df['Winner'].value_counts()\n",
    "\n",
    "print(\"Número de vezes que cada país ganhou a Copa:\")\n",
    "print(vencedores)\n"
   ]
  },
  {
   "cell_type": "markdown",
   "metadata": {
    "id": "PesCRh_WTNSE"
   },
   "source": [
    "### Exercício 7)\n",
    "Quais foram as 5 copas com maior público? Imprima apenas o ano, o país e o público."
   ]
  },
  {
   "cell_type": "code",
   "execution_count": 32,
   "metadata": {
    "id": "Q82TmXtBTNSE"
   },
   "outputs": [
    {
     "data": {
      "text/html": [
       "<div>\n",
       "<style scoped>\n",
       "    .dataframe tbody tr th:only-of-type {\n",
       "        vertical-align: middle;\n",
       "    }\n",
       "\n",
       "    .dataframe tbody tr th {\n",
       "        vertical-align: top;\n",
       "    }\n",
       "\n",
       "    .dataframe thead th {\n",
       "        text-align: right;\n",
       "    }\n",
       "</style>\n",
       "<table border=\"1\" class=\"dataframe\">\n",
       "  <thead>\n",
       "    <tr style=\"text-align: right;\">\n",
       "      <th></th>\n",
       "      <th>Attendance</th>\n",
       "    </tr>\n",
       "    <tr>\n",
       "      <th>Year</th>\n",
       "      <th></th>\n",
       "    </tr>\n",
       "  </thead>\n",
       "  <tbody>\n",
       "    <tr>\n",
       "      <th>1994</th>\n",
       "      <td>3587538</td>\n",
       "    </tr>\n",
       "    <tr>\n",
       "      <th>2014</th>\n",
       "      <td>3386810</td>\n",
       "    </tr>\n",
       "    <tr>\n",
       "      <th>2006</th>\n",
       "      <td>3359439</td>\n",
       "    </tr>\n",
       "    <tr>\n",
       "      <th>2010</th>\n",
       "      <td>3178856</td>\n",
       "    </tr>\n",
       "    <tr>\n",
       "      <th>1998</th>\n",
       "      <td>2785100</td>\n",
       "    </tr>\n",
       "  </tbody>\n",
       "</table>\n",
       "</div>"
      ],
      "text/plain": [
       "      Attendance\n",
       "Year            \n",
       "1994     3587538\n",
       "2014     3386810\n",
       "2006     3359439\n",
       "2010     3178856\n",
       "1998     2785100"
      ]
     },
     "execution_count": 32,
     "metadata": {},
     "output_type": "execute_result"
    }
   ],
   "source": [
    "# solucao\n",
    "maiores_publicos = df.nlargest(5, 'Attendance')\n",
    "\n",
    "maiores_publicos[['Attendance']]\n"
   ]
  },
  {
   "cell_type": "markdown",
   "metadata": {
    "id": "GCO4MCP2TNSF"
   },
   "source": [
    "### Exercício 8)\n",
    "Construa um dicionário onde as chaves são os países que já participaram de uma final e os valores são o número de vezes que o país participou da final."
   ]
  },
  {
   "cell_type": "code",
   "execution_count": 28,
   "metadata": {
    "id": "5C8oLiatTNSF"
   },
   "outputs": [
    {
     "name": "stdout",
     "output_type": "stream",
     "text": [
      "Países que participaram de finais e o número de vezes que participaram:\n",
      "{'Uruguay': 2, 'Argentina': 5, 'Italy': 6, 'Czechoslovakia': 2, 'Hungary': 2, 'Brazil': 7, 'Germany FR': 6, 'Sweden': 1, 'England': 1, 'Netherlands': 3, 'France': 2, 'Germany': 2, 'Spain': 1}\n"
     ]
    }
   ],
   "source": [
    "# SOLUÇÃO\n",
    "finalistas_por_pais = {}\n",
    "\n",
    "for index, row in df.iterrows():\n",
    "    winner = row['Winner']\n",
    "    runners_up = row['RunnersUp']\n",
    "    \n",
    "    if winner in finalistas_por_pais:\n",
    "        finalistas_por_pais[winner] += 1\n",
    "    else:\n",
    "        finalistas_por_pais[winner] = 1\n",
    "\n",
    "    if runners_up in finalistas_por_pais:\n",
    "        finalistas_por_pais[runners_up] += 1\n",
    "    else:\n",
    "        finalistas_por_pais[runners_up] = 1\n",
    "\n",
    "print(\"Países que participaram de finais e o número de vezes que participaram:\")\n",
    "print(finalistas_por_pais)\n"
   ]
  },
  {
   "cell_type": "markdown",
   "metadata": {
    "id": "qhoqNI-cTNSF"
   },
   "source": [
    "### Exercício 9) \n",
    "Construa um dicionário com todos os países que já participaram de uma semi-final de copa (os quatro finalistas), onde a chave é o país e o valor corresponde ao número de vezes que o país foi um semi-finalista."
   ]
  },
  {
   "cell_type": "code",
   "execution_count": 33,
   "metadata": {
    "id": "ogJeZB4pTNSF"
   },
   "outputs": [
    {
     "name": "stdout",
     "output_type": "stream",
     "text": [
      "{'Brazil': 11, 'Germany FR': 8, 'Italy': 8, 'Uruguay': 5, 'France': 5, 'Germany': 5, 'Netherlands': 5, 'Argentina': 5, 'Sweden': 4, 'Spain': 2, 'Austria': 2, 'Yugoslavia': 2, 'Poland': 2, 'Portugal': 2, 'England': 2, 'Hungary': 2, 'Czechoslovakia': 2, 'USA': 1, 'Chile': 1, 'Croatia': 1, 'Turkey': 1, 'Soviet Union': 1, 'Belgium': 1, 'Bulgaria': 1, 'Korea Republic': 1}\n"
     ]
    }
   ],
   "source": [
    "# SOLUÇÃO\n",
    "\n",
    "semifinais = df[['Winner', 'RunnersUp', 'Third', 'Fourth']]\n",
    "\n",
    "times = pd.concat([semifinais['Winner'], semifinais['RunnersUp'], semifinais['Third'], semifinais['Fourth']])\n",
    "\n",
    "semi_finalistas = times.value_counts()\n",
    "\n",
    "dicionario_semi_finalistas = semi_finalistas.to_dict()\n",
    "\n",
    "print(dicionario_semi_finalistas)\n"
   ]
  }
 ],
 "metadata": {
  "colab": {
   "collapsed_sections": [],
   "name": "Pandas I exercicios.ipynb",
   "provenance": []
  },
  "kernelspec": {
   "display_name": "Python 3",
   "language": "python",
   "name": "python3"
  },
  "language_info": {
   "codemirror_mode": {
    "name": "ipython",
    "version": 3
   },
   "file_extension": ".py",
   "mimetype": "text/x-python",
   "name": "python",
   "nbconvert_exporter": "python",
   "pygments_lexer": "ipython3",
   "version": "3.11.4"
  }
 },
 "nbformat": 4,
 "nbformat_minor": 1
}
