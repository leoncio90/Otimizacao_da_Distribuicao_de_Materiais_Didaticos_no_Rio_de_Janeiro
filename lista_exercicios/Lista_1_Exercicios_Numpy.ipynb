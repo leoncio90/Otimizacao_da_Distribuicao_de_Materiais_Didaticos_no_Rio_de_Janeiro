{
 "cells": [
  {
   "cell_type": "markdown",
   "metadata": {},
   "source": [
    "## <span style=\"color:blue\">Numpy Parte I - Exercícios</span>\n",
    "**Maurício Luiz Sobrinho**<br>"
   ]
  },
  {
   "cell_type": "markdown",
   "metadata": {},
   "source": [
    "#### <span style=\"color:red\">Recomenda-se fortemente que os exercícios sejam feitos sem consultar as respostas antecipadamente.</span>"
   ]
  },
  {
   "cell_type": "code",
   "execution_count": 11,
   "metadata": {},
   "outputs": [],
   "source": [
    "import numpy as np"
   ]
  },
  {
   "cell_type": "markdown",
   "metadata": {},
   "source": [
    "### Exercício 1)\n",
    "Construa um array unidimensional com 30 números inteiros escolhidos de forma randômica no intervalo entre 0 e 20. Reformate o array para que se torne uma matriz `A` com 5 linhas e 6 colunas."
   ]
  },
  {
   "cell_type": "code",
   "execution_count": 2,
   "metadata": {},
   "outputs": [
    {
     "name": "stdout",
     "output_type": "stream",
     "text": [
      "Array unidimensional:\n",
      "[15 19 10 11 13 13  1  8  4 17 14  0  0  7 19 16  7  3  0  1 17  9  4  8\n",
      "  8 20 12  5  3  4]\n",
      "\n",
      "Matriz A:\n",
      "[[15 19 10 11 13 13]\n",
      " [ 1  8  4 17 14  0]\n",
      " [ 0  7 19 16  7  3]\n",
      " [ 0  1 17  9  4  8]\n",
      " [ 8 20 12  5  3  4]]\n"
     ]
    }
   ],
   "source": [
    "\n",
    "# Criar um array unidimensional com 30 números inteiros aleatórios entre 0 e 20\n",
    "array_unidimensional = np.random.randint(0, 21, 30)\n",
    "\n",
    "# Reformatar o array para uma matriz 5x6\n",
    "matriz_A = array_unidimensional.reshape(5, 6)\n",
    "\n",
    "print(\"Array unidimensional:\")\n",
    "print(array_unidimensional)\n",
    "print(\"\\nMatriz A:\")\n",
    "print(matriz_A)\n"
   ]
  },
  {
   "cell_type": "markdown",
   "metadata": {},
   "source": [
    "### Exercício 2)\n",
    "Crie uma __view__ da matriz `A` gerada na célula anterior contendo:\n",
    "- as linhas de `A` com índices 0,1 e 3\n",
    "- as linhas de `A` com índice 1 e 2 e as colunas com índice 0,2 e 4\n",
    "- as linhas de `A` com índice 1 e 3 e as colunas com índice 1 e 3"
   ]
  },
  {
   "cell_type": "code",
   "execution_count": 12,
   "metadata": {},
   "outputs": [
    {
     "name": "stdout",
     "output_type": "stream",
     "text": [
      "View 1:\n",
      "[[ 4  7  2 12 15  0]\n",
      " [ 6 17 11  1  5 18]\n",
      " [ 2 19  4  8  6  8]]\n",
      "\n",
      "View 2:\n",
      "[[ 6 11  5]\n",
      " [ 7 14  3]]\n",
      "\n",
      "View 3:\n",
      "[[17  1]\n",
      " [19  8]]\n"
     ]
    }
   ],
   "source": [
    "\n",
    "# Criar a matriz A\n",
    "matriz_A = np.array([[ 4,  7,  2, 12, 15,  0],\n",
    "                     [ 6, 17, 11,  1,  5, 18],\n",
    "                     [ 7, 11, 14,  9,  3,  6],\n",
    "                     [ 2, 19,  4,  8,  6,  8],\n",
    "                     [ 7,  1,  9, 16, 12, 10]])\n",
    "\n",
    "# Criar views da matriz A conforme as especificações\n",
    "view1 = matriz_A[[0, 1, 3]]  # Linhas 0, 1 e 3\n",
    "view2 = matriz_A[[1, 2]][:, [0, 2, 4]]  # Linhas 1 e 2, Colunas 0, 2 e 4\n",
    "view3 = matriz_A[[1, 3]][:, [1, 3]]  # Linhas 1 e 3, Colunas 1 e 3\n",
    "\n",
    "# Imprimir as views criadas\n",
    "print(\"View 1:\")\n",
    "print(view1)\n",
    "print(\"\\nView 2:\")\n",
    "print(view2)\n",
    "print(\"\\nView 3:\")\n",
    "print(view3)\n"
   ]
  },
  {
   "cell_type": "markdown",
   "metadata": {},
   "source": [
    "### Exercício 3)\n",
    "Construa um array `A` bidimensional 5x6 com 30 números inteiros escolhidos de forma randômica no intervalo entre 0 e 20. \n",
    "- faça uma cópia do array `A` criado, chamando a cópia de `Ac`\n",
    "- Substitua todos os elementos do array `A` que sejam maiores que 10 pelo valor -1 \n",
    "- Substitua todos os elementos do array `Ac` que sejam maiores que 7 e menores que 15 pelo valor -1 \n",
    "\n",
    "__Dica:__ Gere máscaras booleanas para realizar as modificações nos arrays."
   ]
  },
  {
   "cell_type": "code",
   "execution_count": 13,
   "metadata": {},
   "outputs": [
    {
     "name": "stdout",
     "output_type": "stream",
     "text": [
      "Array A:\n",
      "[[-1  2 -1 -1 -1  0]\n",
      " [-1 -1 -1  3  5 -1]\n",
      " [-1 -1 -1 -1 10  0]\n",
      " [ 5 -1  8  1 -1 -1]\n",
      " [ 7  4  8 -1  7 -1]]\n",
      "\n",
      "Array Ac:\n",
      "[[15  2 -1 17 16  0]\n",
      " [20 20 -1  3  5 18]\n",
      " [-1 20 -1 18 -1  0]\n",
      " [ 5 20 -1  1 16 -1]\n",
      " [ 7  4 -1 19  7 17]]\n"
     ]
    }
   ],
   "source": [
    "\n",
    "# Criar o array bidimensional A\n",
    "A = np.random.randint(0, 21, size=(5, 6))\n",
    "\n",
    "# Fazer uma cópia do array A\n",
    "Ac = A.copy()\n",
    "\n",
    "# Substituir elementos maiores que 10 por -1 no array A\n",
    "A[A > 10] = -1\n",
    "\n",
    "# Substituir elementos maiores que 7 e menores que 15 por -1 no array Ac\n",
    "Ac[(Ac > 7) & (Ac < 15)] = -1\n",
    "\n",
    "# Imprimir os arrays modificados\n",
    "print(\"Array A:\")\n",
    "print(A)\n",
    "print(\"\\nArray Ac:\")\n",
    "print(Ac)\n",
    "\n"
   ]
  },
  {
   "cell_type": "markdown",
   "metadata": {},
   "source": [
    "### Exercício 4)\n",
    "Construa um array `A` com 20 linhas e 10 colunas onde os elementos são os números interios de  1 até 200.\n",
    "- Crie uma __view__ de `A` chamada `A_lpares` contendo apenas as linhas de `A` com índice par. \n",
    "- Crie uma __view__ de `A` chamada `A_lpares_cimpares` contendo as linhas `A` com índice par e colunas com índice ímpar. "
   ]
  },
  {
   "cell_type": "code",
   "execution_count": 14,
   "metadata": {},
   "outputs": [
    {
     "name": "stdout",
     "output_type": "stream",
     "text": [
      "View A_lpares:\n",
      "[[  1   2   3   4   5   6   7   8   9  10]\n",
      " [ 21  22  23  24  25  26  27  28  29  30]\n",
      " [ 41  42  43  44  45  46  47  48  49  50]\n",
      " [ 61  62  63  64  65  66  67  68  69  70]\n",
      " [ 81  82  83  84  85  86  87  88  89  90]\n",
      " [101 102 103 104 105 106 107 108 109 110]\n",
      " [121 122 123 124 125 126 127 128 129 130]\n",
      " [141 142 143 144 145 146 147 148 149 150]\n",
      " [161 162 163 164 165 166 167 168 169 170]\n",
      " [181 182 183 184 185 186 187 188 189 190]]\n",
      "\n",
      "View A_lpares_cimpares:\n",
      "[[  2   4   6   8  10]\n",
      " [ 22  24  26  28  30]\n",
      " [ 42  44  46  48  50]\n",
      " [ 62  64  66  68  70]\n",
      " [ 82  84  86  88  90]\n",
      " [102 104 106 108 110]\n",
      " [122 124 126 128 130]\n",
      " [142 144 146 148 150]\n",
      " [162 164 166 168 170]\n",
      " [182 184 186 188 190]]\n"
     ]
    }
   ],
   "source": [
    "\n",
    "# Criar o array bidimensional A\n",
    "A = np.arange(1, 201).reshape(20, 10)\n",
    "\n",
    "# Criar a view A_lpares contendo linhas de A com índice par\n",
    "A_lpares = A[::2]\n",
    "\n",
    "# Criar a view A_lpares_cimpares contendo linhas de A com índice par e colunas com índice ímpar\n",
    "A_lpares_cimpares = A[::2, 1::2]\n",
    "\n",
    "# Imprimir as views\n",
    "print(\"View A_lpares:\")\n",
    "print(A_lpares)\n",
    "print(\"\\nView A_lpares_cimpares:\")\n",
    "print(A_lpares_cimpares)\n"
   ]
  },
  {
   "cell_type": "markdown",
   "metadata": {},
   "source": [
    "### Exercício 5)\n",
    "Substitua os elememtos do array `A` do exercício anterior por -1 quando pelo menos um dos índices do elemento é par. \n",
    "\n",
    "__Dica:__ Construa uma máscara booleana"
   ]
  },
  {
   "cell_type": "code",
   "execution_count": 15,
   "metadata": {},
   "outputs": [
    {
     "name": "stdout",
     "output_type": "stream",
     "text": [
      "Array A modificado:\n",
      "[[  1  -1   3  -1   5  -1   7  -1   9  -1]\n",
      " [ 11  -1  13  -1  15  -1  17  -1  19  -1]\n",
      " [ 21  -1  23  -1  25  -1  27  -1  29  -1]\n",
      " [ 31  -1  33  -1  35  -1  37  -1  39  -1]\n",
      " [ 41  -1  43  -1  45  -1  47  -1  49  -1]\n",
      " [ 51  -1  53  -1  55  -1  57  -1  59  -1]\n",
      " [ 61  -1  63  -1  65  -1  67  -1  69  -1]\n",
      " [ 71  -1  73  -1  75  -1  77  -1  79  -1]\n",
      " [ 81  -1  83  -1  85  -1  87  -1  89  -1]\n",
      " [ 91  -1  93  -1  95  -1  97  -1  99  -1]\n",
      " [101  -1 103  -1 105  -1 107  -1 109  -1]\n",
      " [111  -1 113  -1 115  -1 117  -1 119  -1]\n",
      " [121  -1 123  -1 125  -1 127  -1 129  -1]\n",
      " [131  -1 133  -1 135  -1 137  -1 139  -1]\n",
      " [141  -1 143  -1 145  -1 147  -1 149  -1]\n",
      " [151  -1 153  -1 155  -1 157  -1 159  -1]\n",
      " [161  -1 163  -1 165  -1 167  -1 169  -1]\n",
      " [171  -1 173  -1 175  -1 177  -1 179  -1]\n",
      " [181  -1 183  -1 185  -1 187  -1 189  -1]\n",
      " [191  -1 193  -1 195  -1 197  -1 199  -1]]\n"
     ]
    }
   ],
   "source": [
    "\n",
    "# Criar o array bidimensional A com números inteiros de 1 até 200\n",
    "A = np.arange(1, 201).reshape(20, 10)\n",
    "\n",
    "# Criar a máscara booleana para elementos com pelo menos um índice par\n",
    "mask = (A % 2 == 0)\n",
    "\n",
    "# Substituir elementos por -1 de acordo com a máscara\n",
    "A[mask] = -1\n",
    "\n",
    "# Imprimir o array modificado\n",
    "print(\"Array A modificado:\")\n",
    "print(A)\n"
   ]
  },
  {
   "cell_type": "markdown",
   "metadata": {},
   "source": [
    "### Exercício 6)\n",
    "Considere o array `X` de números tipo <font color='blue'>float</font> gerado a partir de uma distribuição uniforme no intervalo entre 0 e 1. Escreva um código para encontrar os três menores valores do array.\n",
    "\n",
    "__Dica:__ Converta o array em uma lista e ordene."
   ]
  },
  {
   "cell_type": "code",
   "execution_count": 16,
   "metadata": {},
   "outputs": [
    {
     "name": "stdout",
     "output_type": "stream",
     "text": [
      "Os três menores valores do array X:\n",
      "[0.05889728554058771, 0.06811038357780741, 0.08547833447634756]\n"
     ]
    }
   ],
   "source": [
    "\n",
    "# Gerar o array X com distribuição uniforme no intervalo entre 0 e 1\n",
    "X = np.random.uniform(0, 1, 20)\n",
    "\n",
    "# Converter o array em uma lista e ordenar\n",
    "X_sorted = sorted(X)\n",
    "\n",
    "# Encontrar os três menores valores\n",
    "tres_menores = X_sorted[:3]\n",
    "\n",
    "# Imprimir os três menores valores\n",
    "print(\"Os três menores valores do array X:\")\n",
    "print(tres_menores)\n"
   ]
  },
  {
   "cell_type": "markdown",
   "metadata": {},
   "source": [
    "### Exercício 7)\n",
    "Escreva uma função chamada `troca_colunas` que recebe um array e o índice de duas colunas como parâmetros e retorna o array com as colunas trocadas. Por exemplo:\n",
    "```python\n",
    "X = np.array([[0, 1, 2, 3, 4, 5], \n",
    "              [0, 1, 2, 3, 4, 5], \n",
    "              [0, 1, 2, 3, 4, 5]])\n",
    "\n",
    "X = troca_colunas(X,1,3)\n",
    "print(X)\n",
    "```\n",
    "deve resultar em\n",
    "```python\n",
    "[[0 3 2 1 4 5]\n",
    " [0 3 2 1 4 5]\n",
    " [0 3 2 1 4 5]]\n",
    "```\n"
   ]
  },
  {
   "cell_type": "code",
   "execution_count": 17,
   "metadata": {},
   "outputs": [
    {
     "name": "stdout",
     "output_type": "stream",
     "text": [
      "[[0 3 2 1 4 5]\n",
      " [0 3 2 1 4 5]\n",
      " [0 3 2 1 4 5]]\n"
     ]
    }
   ],
   "source": [
    "def troca_colunas(array, col1, col2):\n",
    "    array[:, [col1, col2]] = array[:, [col2, col1]]\n",
    "    return array\n",
    "\n",
    "X = np.array([[0, 1, 2, 3, 4, 5], \n",
    "              [0, 1, 2, 3, 4, 5], \n",
    "              [0, 1, 2, 3, 4, 5]])\n",
    "\n",
    "X = troca_colunas(X, 1, 3)\n",
    "print(X)\n"
   ]
  },
  {
   "cell_type": "code",
   "execution_count": null,
   "metadata": {},
   "outputs": [],
   "source": []
  },
  {
   "cell_type": "markdown",
   "metadata": {},
   "source": [
    "### Exercício 8)\n",
    "Escreva um código para, data uma matriz, zerar todos os elementos abaixo da diagonal principal da matriz. Por exemplo:\n",
    "```python\n",
    "[[2 8 3 4 8]\n",
    " [4 8 7 7 3]\n",
    " [8 2 3 1 4]\n",
    " [8 6 3 8 1]\n",
    " [6 4 4 6 1]]\n",
    "```\n",
    "deve resultar em\n",
    "```python\n",
    "[[2 8 3 4 8]\n",
    " [0 8 7 7 3]\n",
    " [0 0 3 1 4]\n",
    " [0 0 0 8 1]\n",
    " [0 0 0 0 1]]\n",
    "```"
   ]
  },
  {
   "cell_type": "code",
   "execution_count": 18,
   "metadata": {},
   "outputs": [
    {
     "name": "stdout",
     "output_type": "stream",
     "text": [
      "[[2 0 0 0 0]\n",
      " [4 8 0 0 0]\n",
      " [8 2 3 0 0]\n",
      " [8 6 3 8 0]\n",
      " [6 4 4 6 1]]\n"
     ]
    }
   ],
   "source": [
    "def zerar_abaixo_diagonal(matriz):\n",
    "    linhas, colunas = matriz.shape\n",
    "    for i in range(linhas):\n",
    "        for j in range(i + 1, colunas):\n",
    "            matriz[i, j] = 0\n",
    "    return matriz\n",
    "\n",
    "matriz = np.array([[2, 8, 3, 4, 8],\n",
    "                   [4, 8, 7, 7, 3],\n",
    "                   [8, 2, 3, 1, 4],\n",
    "                   [8, 6, 3, 8, 1],\n",
    "                   [6, 4, 4, 6, 1]])\n",
    "\n",
    "matriz_zerada = zerar_abaixo_diagonal(matriz)\n",
    "print(matriz_zerada)\n",
    "\n",
    "# Este código define uma função zerar_abaixo_diagonal que \n",
    "# percorre a matriz e zera todos os elementos abaixo da diagonal principal."
   ]
  }
 ],
 "metadata": {
  "kernelspec": {
   "display_name": "Python 3",
   "language": "python",
   "name": "python3"
  },
  "language_info": {
   "codemirror_mode": {
    "name": "ipython",
    "version": 3
   },
   "file_extension": ".py",
   "mimetype": "text/x-python",
   "name": "python",
   "nbconvert_exporter": "python",
   "pygments_lexer": "ipython3",
   "version": "3.11.4"
  }
 },
 "nbformat": 4,
 "nbformat_minor": 2
}
